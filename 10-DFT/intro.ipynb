{
 "cells": [
  {
   "cell_type": "markdown",
   "metadata": {
    "editable": true,
    "slideshow": {
     "slide_type": ""
    },
    "tags": []
   },
   "source": [
    "<style>       \n",
    "    hr{\n",
    "        height: 4px;\n",
    "        background-color: rgb(247,148,9);\n",
    "        border: none;\n",
    "    }\n",
    "</style>\n",
    "<div style=\"color=white;\n",
    "           display:fill;\n",
    "           border-radius:5px;\n",
    "           background-color:rgb(34,41,49)\">\n",
    "<hr>\n",
    "<div align=\"right\"><i>BTE5034 - Digital Signal Processing &nbsp;</i></div>\n",
    "<div align=\"right\">EIT - BFH &nbsp;</div>\n",
    "\n",
    "<div style=\"clear: both; font-size: 30pt; font-weight: bold;\">\n",
    "    Introduction to the discrete Fourier transform\n",
    "</div>\n",
    "<hr>\n",
    "</div>"
   ]
  },
  {
   "cell_type": "code",
   "execution_count": null,
   "metadata": {
    "editable": true,
    "slideshow": {
     "slide_type": ""
    },
    "tags": []
   },
   "outputs": [],
   "source": [
    "# Import necessary libraries\n",
    "import numpy as np\n",
    "import matplotlib.pyplot as plt\n",
    "import matplotlib.patches as patches\n",
    "import ipywidgets as wg\n",
    "\n",
    "plt.rcParams[\"figure.figsize\"] = (12,3)"
   ]
  },
  {
   "cell_type": "code",
   "execution_count": null,
   "metadata": {
    "editable": true,
    "jupyter": {
     "source_hidden": true
    },
    "slideshow": {
     "slide_type": ""
    },
    "tags": []
   },
   "outputs": [],
   "source": [
    "# These are helper functions for the interactive plots used later in the notebook. No need to study or understand\n",
    "#  the code unless you are interested in advanced plotting and interactive widgets\n",
    "\n",
    "UC_LIM = 1.4\n",
    "UC_ARW = 0.1\n",
    "UC_ARC = 0.8\n",
    "UC_TXT = 1.2\n",
    "UC_PSZ = 5\n",
    "\n",
    "def wcolor(w):\n",
    "    if np.isclose(w, 0) or np.isclose(w, np.pi):\n",
    "        return 'C0'\n",
    "    elif w > 0:\n",
    "        return 'C2'\n",
    "    else:\n",
    "        return 'C3'\n",
    "    \n",
    "def arc(a=0, b=2*np.pi, r=1, pts=60, col='C0', arrow=False):\n",
    "    theta = np.linspace(a, b, pts)\n",
    "    plt.plot(r * np.cos(theta), r * np.sin(theta), color=col, linewidth=2)\n",
    "    if arrow:\n",
    "        d = np.sign(b) * UC_ARW\n",
    "        x = r * np.array([np.cos(b-d), np.sin(b-d)])\n",
    "        y = r * np.array([np.cos(b), np.sin(b)]) - x\n",
    "        plt.arrow(*x, *y, shape='full', lw=1, length_includes_head=True, head_width=.08, color=col)\n",
    "\n",
    "def ucsetup():\n",
    "    plt.gcf().set_figheight(UC_PSZ)\n",
    "    plt.gca().set_aspect('equal', 'box') \n",
    "    plt.gca().set(xlim=(-UC_LIM, UC_LIM), ylim=(-UC_LIM, UC_LIM))\n",
    "    plt.axvline(0, linewidth=0.8, color='k')\n",
    "    plt.axhline(0, linewidth=0.8, color='k')\n",
    "    plt.axis('off')  \n",
    "    arc()\n",
    "    \n",
    "def ucpoint(w, lb='', col='C2'):\n",
    "    x, y = np.cos(w), np.sin(w)\n",
    "    plt.plot([0, x], [0, y], color=col)\n",
    "    plt.plot(x, y, 'o', color=col)\n",
    "    plt.text(UC_TXT * x, UC_TXT * y, lb, ha='center', va='bottom' if np.round(y)==0 else 'center')          \n",
    "\n",
    "def ctspin(w):\n",
    "    w = np.fmod(w, 2 * np.pi)\n",
    "    ucsetup()\n",
    "    ucpoint(w, f'$e^{{j\\\\theta}}$', wcolor(w))\n",
    "    arc(0, w, r=UC_ARC, col='C1', arrow=True)\n",
    "    return w\n",
    "\n",
    "def dtspin(N, k, n=None):\n",
    "    ucsetup()\n",
    "    w = 2 * np.pi / N * k\n",
    "    for m in range(n+1 if n is not None else N):\n",
    "        ucpoint(w * m, f'$w_{{{k}}}[{m}]$', wcolor(np.pi - w))\n",
    "    ab = [0, w] if n is None else [w * (n-1), w * n]\n",
    "    arc(*ab, r=UC_ARC, col='C1', arrow=True)\n",
    "\n",
    "def ccspin(N, k, n=1):\n",
    "    ucsetup()\n",
    "    w = 2 * np.pi / N * k * n\n",
    "    ucpoint(w, f'$w_{{{k}}}[{n}]$')\n",
    "    ucpoint(-w, f'$w_{{{N-k}}}[{n}]$', 'C3')\n",
    "    plt.plot([np.cos(w), np.cos(w)], [np.sin(w), -np.sin(w)], 'C6')\n",
    "    plt.plot([np.cos(w), np.cos(w)], [np.sin(w), -np.sin(w)], 'oC6')\n",
    "    plt.plot([0, np.cos(w)], [0, 0], 'C9')\n",
    "    plt.plot(np.cos(w), 0, 'oC9')\n",
    "  \n",
    "def show_cex(N:int, k:int):\n",
    "    w = 2 * np.pi / N * k\n",
    "    cex = np.round(np.exp(1j * w * np.arange(N)), 3)\n",
    "    plt.subplot(1,2,1)\n",
    "    ucsetup()\n",
    "    arc(0, w, r=UC_ARC, col='C1', arrow=True)    \n",
    "    pts = {np.round(np.fmod(w * n, 2 * np.pi), 2): n for n in range(N-1,-1,-1)}\n",
    "    for p, n in pts.items():\n",
    "        ucpoint(n * w, f'$w_{{{k}}}[{n}]$', 'C2' if n < 2 else 'lightgray')\n",
    "    plt.subplot(2,2,2)\n",
    "    plt.stem(cex.real)\n",
    "    plt.title(f'$\\\\mathrm{{Re}}\\\\{{\\\\mathbf{{w}}_{{{k}}}\\\\}} = \\\\mathbf{{c}}_{{{k}}}$')\n",
    "    plt.subplot(2,2,4)\n",
    "    plt.stem(cex.imag)\n",
    "    plt.title(f'$\\\\mathrm{{Im}}\\\\{{\\\\mathbf{{w}}_{{{k}}}\\\\}} = \\\\mathbf{{s}}_{{{k}}}$')\n",
    "    plt.tight_layout()\n",
    "\n",
    "def show_freqs(N:int):\n",
    "    ucsetup()    \n",
    "    for k in range(N):\n",
    "        w = 2 * np.pi / N * k\n",
    "        if k < N / 2:\n",
    "            ucpoint(w, f'$\\\\omega_{{{k}}}$', wcolor(w))\n",
    "        elif k == N / 2:\n",
    "            ucpoint(np.pi, f'$\\\\omega_{{{k}}} = \\\\pi$', wcolor(0))\n",
    "        else:\n",
    "            ucpoint(w, f'$\\\\omega_{{{k}}} = -\\\\omega_{{{N-k}}}$', wcolor(np.pi - w))\n",
    "    plt.title(f'$N = {N}$')\n",
    "\n",
    "def display_sbs(interactive_widget):\n",
    "    c = interactive_widget.children\n",
    "    controls = wg.HBox(c[:-1], layout=wg.Layout(align_items='center'))\n",
    "    return display(wg.HBox([controls, c[-1]]))"
   ]
  },
  {
   "cell_type": "markdown",
   "metadata": {
    "editable": true,
    "slideshow": {
     "slide_type": ""
    },
    "tags": []
   },
   "source": [
    "# Bulding signals out of oscillations\n",
    "\n",
    "The fundamental intuition of Fourier analysis is that a signal, no matter how complicated its \"shape\", can always be represented as a weighted sum of sinusoidal oscillations; a Fourier transform is the method to compute the value of the necessary weights. \n",
    "\n",
    "This is a very old idea and something that in the past was often implemented with mechanical or electrical devices, as for example in the famous tide prediction machine designed by Lord Kelvin in 1872:\n",
    "\n",
    "<img width=\"449\" src=\"img/tidemachine.jpg\">\n",
    "\n",
    "Using DSP blocks, this machine would look like this:\n",
    "\n",
    "<img width=\"449\" src=\"img/IDFT.png\">"
   ]
  },
  {
   "cell_type": "markdown",
   "metadata": {
    "editable": true,
    "slideshow": {
     "slide_type": ""
    },
    "tags": []
   },
   "source": [
    "## The complex exponential\n",
    "\n",
    "The expression $e^{j\\theta}$ represents a point on the unit circle in the complex plane placed at an angle of $\\theta$ radians measured _counterclockwise_ from the horizontal axis. The Cartesian coordinates of this point on the plane are its real and imaginary parts, that is, \n",
    "$$\n",
    "    e^{j\\theta} = \\cos\\theta + j\\sin\\theta.\n",
    "$$\n",
    "\n",
    "Note that:\n",
    " * the position of the point is a $2\\pi$-periodic function of the angle: $e^{j(\\theta + 2m\\pi)} = e^{j\\theta}$ for any $m \\in \\mathbb{Z}$\n",
    " * if the angle is negative, the position of the point is measured _clockwise_ from the real axis\n",
    " * complex conjugation flips the sign of the angle: $(e^{j\\theta})^* = e^{-j\\theta}$\n",
    "\n",
    "Because of the $2\\pi$-periodicity, it is customary to _wrap_ the phase of a complex exponential over the interval $[-\\pi, \\pi]$; indeed, any point on the upper half of the unit circle can be reached via a **counterclockwise** rotation with $0 \\le \\theta \\le \\pi$ radians while points on the lower half can be reached via a **clockwise** rotation with $-\\pi \\le \\theta \\le 0$"
   ]
  },
  {
   "cell_type": "code",
   "execution_count": null,
   "metadata": {},
   "outputs": [],
   "source": [
    "ws = wg.FloatSlider(value=0, min=-15, max=15, description='$\\\\theta$')\n",
    "display_sbs(wg.interactive(ctspin, w=ws))"
   ]
  },
  {
   "cell_type": "markdown",
   "metadata": {
    "editable": true,
    "slideshow": {
     "slide_type": ""
    },
    "tags": []
   },
   "source": [
    "## Complex-valued harmonic oscillations\n",
    "\n",
    "The family $W_N = \\{\\mathbf{w}_k\\}_{0 \\le k < N}$ is a set of $N$ discrete-time, complex-valued, harmonic oscillations where\n",
    "$$\n",
    "    w_k[n] = e^{j\\omega_k n} = \\cos(\\omega_k n) + j \\sin(\\omega_k n), \\qquad \\omega_k = \\frac{2\\pi}{N}k\n",
    "$$\n",
    "The $N$ samples in $\\mathbf{w}_k$ describe the position of a point on the complex plane that rotates _counterclockwise_ around the unit circle in angular increments of $\\omega_k$ radians; the Cartesian coordinates of $w_k[n]$ are thus the cosine and the sine of the angle $\\omega_k n$:\n",
    "\n",
    "With NumPy, complex-valued computations are straightforward and we can generate the elements in $W_N$ as:"
   ]
  },
  {
   "cell_type": "code",
   "execution_count": null,
   "metadata": {
    "editable": true,
    "slideshow": {
     "slide_type": ""
    },
    "tags": []
   },
   "outputs": [],
   "source": [
    "def cex_N(N:int, k:int, n:np.ndarray=None) -> np.ndarray:\n",
    "    n = np.arange(N) if n is None else n\n",
    "    return np.exp(2j * np.pi / N * k * n)"
   ]
  },
  {
   "cell_type": "markdown",
   "metadata": {},
   "source": [
    "The following interactive plot displays the samples in $\\mathbf{w}_k$ as points on the complex plane and as plots of their real and imaginary parts (if multiple points fall on the same position, only the first label is shown):"
   ]
  },
  {
   "cell_type": "code",
   "execution_count": null,
   "metadata": {
    "editable": true,
    "slideshow": {
     "slide_type": ""
    },
    "tags": []
   },
   "outputs": [],
   "source": [
    "N = 16\n",
    "display_sbs(wg.interactive(show_cex, N=wg.fixed(N), k=wg.IntSlider(1, 1, N-1)))"
   ]
  },
  {
   "cell_type": "markdown",
   "metadata": {},
   "source": [
    "## Building signals with complex exponentials"
   ]
  },
  {
   "cell_type": "markdown",
   "metadata": {
    "editable": true,
    "slideshow": {
     "slide_type": ""
    },
    "tags": []
   },
   "source": [
    "### A discrete-time square wave\n",
    "\n",
    "A balanced, discrete-time square wave with period $N$ samples is defined over $[0, N-1]$ as\n",
    "$$\n",
    "    q[n] = \\begin{cases} 0 & n =0, N/2 \\\\ 1 & 0 < n < N/2 \\\\ -1 & N/2 < n < N \\end{cases}\n",
    "$$\n",
    "and prolonged by periodicity over $\\mathbb{Z}$. We assume $N$ even, so that $N/2$ is an integer; the square wave is antisymmetric around its midpoint $N/2$, hence the adjective of \"balanced\".\n",
    "\n",
    "In Python, we can easily implement a generator for this signal using the modulo operation:"
   ]
  },
  {
   "cell_type": "code",
   "execution_count": null,
   "metadata": {
    "editable": true,
    "slideshow": {
     "slide_type": ""
    },
    "tags": []
   },
   "outputs": [],
   "source": [
    "def sqw(N: int, n: np.ndarray=None) -> np.ndarray:\n",
    "    # if no index range then return the values over [0, N-1]    \n",
    "    n = np.arange(N) if n is None else n\n",
    "    q = np.ones_like(n).astype(float)\n",
    "    q[np.mod(n, N/2) == 0] = 0\n",
    "    q[np.mod(n, N) > N/2] *= -1\n",
    "    return q"
   ]
  },
  {
   "cell_type": "markdown",
   "metadata": {
    "editable": true,
    "slideshow": {
     "slide_type": ""
    },
    "tags": []
   },
   "source": [
    "Here is the first period of the square wave"
   ]
  },
  {
   "cell_type": "code",
   "execution_count": null,
   "metadata": {
    "editable": true,
    "slideshow": {
     "slide_type": ""
    },
    "tags": []
   },
   "outputs": [],
   "source": [
    "N = 64\n",
    "plt.stem(sqw(N));"
   ]
  },
  {
   "cell_type": "markdown",
   "metadata": {
    "editable": true,
    "slideshow": {
     "slide_type": ""
    },
    "tags": []
   },
   "source": [
    "but we can also plot as many periods as we like:"
   ]
  },
  {
   "cell_type": "code",
   "execution_count": null,
   "metadata": {
    "editable": true,
    "slideshow": {
     "slide_type": ""
    },
    "tags": []
   },
   "outputs": [],
   "source": [
    "P = 12\n",
    "n = np.arange(-P * N, P * N)\n",
    "plt.plot(n, sqw(N, n));"
   ]
  },
  {
   "cell_type": "markdown",
   "metadata": {
    "editable": true,
    "slideshow": {
     "slide_type": ""
    },
    "tags": []
   },
   "source": [
    "\n",
    "The square wave can be obtained as \n",
    "$$\n",
    "    \\mathbf{q} = \\frac{1}{N} \\sum_{k=0}^{N-1} Q[k] \\mathbf{w}_k \n",
    "$$\n",
    "with\n",
    "$$\n",
    "    Q[k] = \\begin{cases} 0 & k \\text{~even} \\\\ \\displaystyle \\frac{-2j}{\\tan(\\pi k /N)}  & k \\text{~odd} \\end{cases}\n",
    "$$"
   ]
  },
  {
   "cell_type": "code",
   "execution_count": null,
   "metadata": {
    "editable": true,
    "slideshow": {
     "slide_type": ""
    },
    "tags": []
   },
   "outputs": [],
   "source": [
    "def sqw_idft(N: int, n: np.ndarray=None) -> np.ndarray:\n",
    "    n = np.arange(N) if n is None else np.mod(n, N)\n",
    "    q = np.fft.ifft([-2j / np.tan(np.pi / N * k) if k % 2 == 1 else 0 for k in range(N)]).real\n",
    "    return q[n]"
   ]
  },
  {
   "cell_type": "code",
   "execution_count": null,
   "metadata": {},
   "outputs": [],
   "source": [
    "plt.stem(sqw_idft(100));"
   ]
  },
  {
   "cell_type": "code",
   "execution_count": null,
   "metadata": {},
   "outputs": [],
   "source": []
  },
  {
   "cell_type": "code",
   "execution_count": null,
   "metadata": {
    "editable": true,
    "slideshow": {
     "slide_type": ""
    },
    "tags": []
   },
   "outputs": [],
   "source": [
    "M = 1002\n",
    "np.allclose(sqw_idft(M), sqw(M))"
   ]
  },
  {
   "cell_type": "markdown",
   "metadata": {
    "editable": true,
    "slideshow": {
     "slide_type": ""
    },
    "tags": []
   },
   "source": [
    "### A discrete-time triangular wave\n",
    "\n",
    "A discrete-time triangular signal with period $N$ samples is defined over $[0, N-1]$ as\n",
    "$$\n",
    "    t[n] = \\frac{4}{N}\\left|n - \\frac{N}{2}\\right| - 1\n",
    "$$\n",
    "and prolonged by periodicity over $\\mathbb{Z}$.\n",
    "\n",
    "Complete the code below to implement a generator for the periodic triangular signal."
   ]
  },
  {
   "cell_type": "code",
   "execution_count": null,
   "metadata": {
    "editable": true,
    "jupyter": {
     "source_hidden": true
    },
    "slideshow": {
     "slide_type": ""
    },
    "tags": []
   },
   "outputs": [],
   "source": [
    "def tri(N: int, n: np.ndarray=None) -> np.ndarray:\n",
    "    n = np.arange(N) if n is None else n\n",
    "    t = (4 / N) * np.abs(np.mod(n, N) - N / 2) - 1 \n",
    "    return t"
   ]
  },
  {
   "cell_type": "code",
   "execution_count": null,
   "metadata": {
    "editable": true,
    "slideshow": {
     "slide_type": ""
    },
    "tags": []
   },
   "outputs": [],
   "source": [
    "N = 64\n",
    "plt.stem(tri(N));"
   ]
  },
  {
   "cell_type": "code",
   "execution_count": null,
   "metadata": {
    "editable": true,
    "slideshow": {
     "slide_type": ""
    },
    "tags": []
   },
   "outputs": [],
   "source": [
    "P = 10\n",
    "n = np.arange(-P * N, P * N)\n",
    "plt.plot(n, tri(N, n));"
   ]
  },
  {
   "cell_type": "markdown",
   "metadata": {
    "editable": true,
    "slideshow": {
     "slide_type": ""
    },
    "tags": []
   },
   "source": [
    "### Exercise: triangular wave from complex oscillations\n",
    "\n",
    "The square wave can be obtained as \n",
    "$$\n",
    "    \\mathbf{q} = \\frac{1}{N} \\sum_{k=0}^{N-1} T[k] \\mathbf{w}_k \n",
    "$$\n",
    "with\n",
    "$$\n",
    "    T[k] = \\begin{cases} 0 & k \\text{~even} \\\\ \\displaystyle \\frac{4}{N}\\,\\left(1 + \\frac{1}{\\tan^2(\\pi k/N)}\\right) & k \\text{~odd} \\end{cases}\n",
    "$$\n",
    "Complete the code below to generate a triangular wave using complex oscillations"
   ]
  },
  {
   "cell_type": "code",
   "execution_count": null,
   "metadata": {
    "editable": true,
    "slideshow": {
     "slide_type": ""
    },
    "tags": []
   },
   "outputs": [],
   "source": [
    "def tri_idft(N: int, n: np.ndarray=None) -> np.ndarray:\n",
    "    n = np.arange(N) if n is None else np.mod(n, N)\n",
    "    ... # your code here\n",
    "    return t[n]"
   ]
  },
  {
   "cell_type": "markdown",
   "metadata": {
    "editable": true,
    "slideshow": {
     "slide_type": ""
    },
    "tags": []
   },
   "source": [
    "Using the same reasoning as before, but considering that the triangular wave is symmetric, we can write\n"
   ]
  },
  {
   "cell_type": "code",
   "execution_count": null,
   "metadata": {
    "editable": true,
    "slideshow": {
     "slide_type": ""
    },
    "tags": []
   },
   "outputs": [],
   "source": [
    "M = 14\n",
    "np.allclose(tri_idft(M), tri(M))"
   ]
  },
  {
   "cell_type": "code",
   "execution_count": null,
   "metadata": {},
   "outputs": [],
   "source": []
  },
  {
   "cell_type": "code",
   "execution_count": null,
   "metadata": {},
   "outputs": [],
   "source": [
    "plt.stem(sqw(100));"
   ]
  },
  {
   "cell_type": "code",
   "execution_count": null,
   "metadata": {},
   "outputs": [],
   "source": [
    "def dft_coef_sqw(N):\n",
    "    return np.array([-2j / np.tan(np.pi / N * k) if k % 2 == 1 else 0 for k in range(N)])"
   ]
  },
  {
   "cell_type": "code",
   "execution_count": null,
   "metadata": {},
   "outputs": [],
   "source": [
    "plt.stem(dft_coef_sqw(100).imag);"
   ]
  },
  {
   "cell_type": "code",
   "execution_count": null,
   "metadata": {},
   "outputs": [],
   "source": [
    "plt.stem(np.fft.fft(sqw(100)).imag);"
   ]
  },
  {
   "cell_type": "code",
   "execution_count": null,
   "metadata": {},
   "outputs": [],
   "source": [
    "np.allclose(dft_coef_sqw(100).imag, np.fft.fft(sqw(100)).imag)"
   ]
  },
  {
   "cell_type": "code",
   "execution_count": null,
   "metadata": {},
   "outputs": [],
   "source": [
    "plt.stem(np.fft.ifft(np.fft.fft(sqw(100))))"
   ]
  },
  {
   "cell_type": "code",
   "execution_count": null,
   "metadata": {},
   "outputs": [],
   "source": [
    "N = 105\n",
    "w = 2 * np.pi * 0.1\n",
    "x = np.cos(w * np.arange(N)) "
   ]
  },
  {
   "cell_type": "code",
   "execution_count": null,
   "metadata": {},
   "outputs": [],
   "source": [
    "plt.stem(x)"
   ]
  },
  {
   "cell_type": "markdown",
   "metadata": {},
   "source": [
    " 1. compute the DFT of the cosine for N = 100\n",
    " 2. plot (stem) the absolute values of the DFT coefficients\n",
    " 3. try to understand why they look like that\n",
    " 4. repeat for N = 105\n",
    "    "
   ]
  },
  {
   "cell_type": "code",
   "execution_count": null,
   "metadata": {},
   "outputs": [],
   "source": [
    "plt.stem(np.abs(np.fft.fft(x)));"
   ]
  },
  {
   "cell_type": "code",
   "execution_count": null,
   "metadata": {},
   "outputs": [],
   "source": [
    "N = np.linspace(10, 1000000, 100)\n",
    "#plt.plot(N**2)\n",
    "plt.plot(N * np.log2(N) / (N**2))"
   ]
  },
  {
   "cell_type": "code",
   "execution_count": null,
   "metadata": {},
   "outputs": [],
   "source": []
  }
 ],
 "metadata": {
  "kernelspec": {
   "display_name": "Python 3 (ipykernel)",
   "language": "python",
   "name": "python3"
  },
  "language_info": {
   "codemirror_mode": {
    "name": "ipython",
    "version": 3
   },
   "file_extension": ".py",
   "mimetype": "text/x-python",
   "name": "python",
   "nbconvert_exporter": "python",
   "pygments_lexer": "ipython3",
   "version": "3.12.3"
  }
 },
 "nbformat": 4,
 "nbformat_minor": 4
}
