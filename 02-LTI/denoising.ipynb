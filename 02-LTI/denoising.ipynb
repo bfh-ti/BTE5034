{
 "cells": [
  {
   "cell_type": "markdown",
   "id": "b8d95824-bce1-4b08-ae39-c696b8d04aae",
   "metadata": {
    "editable": true,
    "slideshow": {
     "slide_type": ""
    },
    "tags": []
   },
   "source": [
    "<style>       \n",
    "    hr{\n",
    "        height: 4px;\n",
    "        background-color: rgb(247,148,9);\n",
    "        border: none;\n",
    "    }\n",
    "</style>\n",
    "<div style=\"color=white;\n",
    "           display:fill;\n",
    "           border-radius:5px;\n",
    "           background-color:rgb(34,41,49)\">\n",
    "<hr>\n",
    "<div align=\"right\"><i>BTE5034 - Digital Signal Processing &nbsp;</i></div>\n",
    "<div align=\"right\">EIT - BFH &nbsp;</div>\n",
    "\n",
    "<div style=\"clear: both; font-size: 30pt; font-weight: bold;\">\n",
    "    Practical introduction to discrete-time Filters\n",
    "</div>\n",
    "<hr>\n",
    "</div>"
   ]
  },
  {
   "cell_type": "code",
   "execution_count": null,
   "id": "45c82e53-6767-4af2-af81-90b2701ec69e",
   "metadata": {
    "editable": true,
    "slideshow": {
     "slide_type": ""
    },
    "tags": []
   },
   "outputs": [],
   "source": [
    "import matplotlib.pyplot as plt\n",
    "import numpy as np\n",
    "import IPython\n",
    "\n",
    "import ipywidgets as wg"
   ]
  },
  {
   "cell_type": "code",
   "execution_count": null,
   "id": "b81259e0-25e4-4c8d-bb25-32f6466a9d07",
   "metadata": {
    "editable": true,
    "slideshow": {
     "slide_type": ""
    },
    "tags": []
   },
   "outputs": [],
   "source": [
    "plt.rcParams[\"figure.figsize\"] = (14,4)"
   ]
  },
  {
   "cell_type": "markdown",
   "id": "55edefb0-08ac-4f9a-822f-e1d6523ffa96",
   "metadata": {
    "editable": true,
    "slideshow": {
     "slide_type": ""
    },
    "tags": []
   },
   "source": [
    "# Denoising\n",
    "\n",
    "In a denoising scenario we have a \"clean\" signal $x[n]$ that has been corrupted by an additive noise signal $\\eta[n]$; we only have access to $\\hat{x}[n] = x[n] + \\eta[n]$ and we would like to recover $x[n]$.\n",
    "\n",
    "In general, without further assumptions, this is not a solvable problem. However, it is generally the case that the signal and the noise have very different characteristics and, in this case, we can try to reduce the amount of noise via filtering. Typically, if we look in the time domain:\n",
    " * the clean signal is varying slowly and smoothly\n",
    " * the noise is low-amplitude with respect to the signal and it varies very fast from one sample to the next."
   ]
  },
  {
   "cell_type": "markdown",
   "id": "8084a998-a144-42b6-a471-397445560719",
   "metadata": {
    "editable": true,
    "slideshow": {
     "slide_type": ""
    },
    "tags": []
   },
   "source": [
    "## A generator for smooth noisy signals\n",
    "\n",
    "The following function can be used to generate an $N$-point smooth signal together with a noise-corrupted version at the specified signal to noise ratio; the spectrum of the smooth signal will contain most of its energy in the $[-B\\pi, B\\pi]$ range. You don't need to worry about how the function works, simply use it as a black box."
   ]
  },
  {
   "cell_type": "code",
   "execution_count": null,
   "id": "34c40b0d-689e-441d-bae0-cb602da2f74c",
   "metadata": {
    "editable": true,
    "jupyter": {
     "source_hidden": true
    },
    "slideshow": {
     "slide_type": ""
    },
    "tags": [
     "solution"
    ]
   },
   "outputs": [],
   "source": [
    "# Only for the very curious students!!\n",
    "\n",
    "def sig_gen(N: int, SNR: float, B=0.02, x=None) -> [np.ndarray, np.ndarray]:\n",
    "    # if you pass a clean signal x, the function will just add noise\n",
    "    if x is None:\n",
    "        # build a smooth signal by creating a DFT vector X of length 2 * int(N * B) + 2 and\n",
    "        #  taking a 2N-point inverse DFT. The resulting signal will be bandlimited to 2pi * B.\n",
    "        # X[0] = 0 to ensure zero mean; other values randomly distributed over [-1, 1]\n",
    "        X = np.r_[0, np.random.uniform(-1, 1, 2 * int(N * B) + 1)]\n",
    "        # at this point the signal's energy is the number of nonzero DFT coefficients times\n",
    "        #  their variance, divided by the number of time samples: (2NB)(1/3)/(2N) = B / 3\n",
    "        # We take the real part only, so energy is B / 6\n",
    "        # To get a signal with approx unit peak, normalize by sqrt of twice the power\n",
    "        #  (pretending the signal is sinusoidal so that peak = RMS * sqrt(2))\n",
    "        x = np.real(np.fft.ifft(X, 2*N))[:N] / np.sqrt(2 * B / 3 / N)\n",
    "    # amplitude of the noise from the desired SNR, knowing that now signal energy is 0.125\n",
    "    a = np.sqrt((3.0 / 8.0) / np.power(10, SNR / 10)) \n",
    "    return x, x + np.random.uniform(-a, a, len(x))"
   ]
  },
  {
   "cell_type": "markdown",
   "id": "48af684f-1f07-423c-950a-5aa7f2b38dbf",
   "metadata": {
    "editable": true,
    "slideshow": {
     "slide_type": ""
    },
    "tags": []
   },
   "source": [
    "Use the following interactive widget to play with the SNR and the B parameters and try to get a feel for their effect on the  signal generated by the function:"
   ]
  },
  {
   "cell_type": "code",
   "execution_count": null,
   "id": "f07540d5-745f-4afb-b20f-142dcd059db9",
   "metadata": {
    "editable": true,
    "slideshow": {
     "slide_type": ""
    },
    "tags": []
   },
   "outputs": [],
   "source": [
    "def display(SNR=10, Bw=20, dfilt=None, param=None):\n",
    "    LEN, SHOW = 1000, slice(200, 800)\n",
    "    if display.data['x'] is None or display.data['Bw'] != Bw:\n",
    "        x, x_hat = sig_gen(LEN, SNR, Bw / 1000)\n",
    "        display.data.update({'SNR': SNR, 'Bw': Bw, 'x': x, 'x_hat': x_hat})\n",
    "    elif display.data['SNR'] != SNR:\n",
    "        x, x_hat = sig_gen(LEN, SNR, Bw / 1000, display.data['x'])\n",
    "        display.data.update({'SNR': SNR, 'x_hat': x_hat})\n",
    "    else:\n",
    "        x, x_hat = display.data['x'], display.data['x_hat']\n",
    "    plt.plot(x_hat[SHOW], color=('red', 0.5), lw=1, label='noisy');\n",
    "    plt.plot(x[SHOW], 'C3', lw=2, label='clean');\n",
    "    if dfilt is not None:\n",
    "        plt.plot(dfilt(x_hat, param)[SHOW], 'C0', lw=3, label='denoised');\n",
    "    plt.ylim(-1.2,1.2);\n",
    "    plt.legend(loc=\"upper right\");\n",
    "    \n",
    "# hold the current data in a dict as a function attribute (hacky, I know...)\n",
    "display.data = {'SNR': None, 'Bw': None, 'x': None, 'x_hat': None}    "
   ]
  },
  {
   "cell_type": "code",
   "execution_count": null,
   "id": "3e634dca-37a0-4198-8e16-ec449fa7a3f5",
   "metadata": {
    "editable": true,
    "slideshow": {
     "slide_type": ""
    },
    "tags": []
   },
   "outputs": [],
   "source": [
    "wg.interact(display, SNR=(0.0, 50.0), Bw=(5, 40, 1), dfilt=wg.fixed(None), param=wg.fixed(None));"
   ]
  },
  {
   "cell_type": "markdown",
   "id": "b2469401-c448-42b4-8c5c-662442467085",
   "metadata": {
    "editable": true,
    "slideshow": {
     "slide_type": ""
    },
    "tags": []
   },
   "source": [
    "### Exercise: check the SNR\n",
    "\n",
    "Given a noise-corrupted signal $\\hat{x}[n] = x[n] + \\eta[n]$, the signal-to-noise ratio is expressed in dB and is computed as \n",
    "\n",
    "$$\n",
    "    \\text{SNR}_{\\hat{x}} = 10 \\log_{10}\\left(\\frac{E_x}{E_\\eta}\\right)\n",
    "$$\n",
    "\n",
    "where $E_x$ is the energy of the clean signal and $E_\\eta$ is the energy of the noise. \n",
    "\n",
    "Generate a noisy signal and verify numerically that the SNR of the sequence returned by `sig_gen()` is indeed close to the SNR passed as an argument to the function."
   ]
  },
  {
   "cell_type": "code",
   "execution_count": null,
   "id": "a848db4d-bfc8-44bb-aaf2-0667b85053df",
   "metadata": {
    "editable": true,
    "slideshow": {
     "slide_type": ""
    },
    "tags": []
   },
   "outputs": [],
   "source": [
    "N, SNR = 1000, 5\n",
    "x, x_hat = sig_gen(N, SNR)"
   ]
  },
  {
   "cell_type": "code",
   "execution_count": null,
   "id": "19ef41c5-a2b1-4220-9bea-9c93c2b66b58",
   "metadata": {},
   "outputs": [],
   "source": [
    "plt.plot(x);\n",
    "plt.plot(x_hat);"
   ]
  },
  {
   "cell_type": "code",
   "execution_count": null,
   "id": "0584cd4c-e9f6-4201-9d1b-f7de7e359439",
   "metadata": {
    "editable": true,
    "slideshow": {
     "slide_type": ""
    },
    "tags": []
   },
   "outputs": [],
   "source": [
    "E_x = np.sum(x ** 2)\n",
    "E_eta = np.sum((x - x_hat) ** 2)\n",
    "SNR_exp = 10 * np.log10(E_x/E_eta)\n",
    "print(SNR_exp)"
   ]
  },
  {
   "cell_type": "markdown",
   "id": "e6b32af4-1f84-48ff-8bfc-67a78a768f63",
   "metadata": {
    "editable": true,
    "slideshow": {
     "slide_type": ""
    },
    "tags": []
   },
   "source": [
    "## Denoising via averaging\n",
    "\n",
    "As a first idea, try to remove the noise by replacing each sample with a local average of the past $M$ input points; the resulting signal is\n",
    "$$\n",
    "  y[n] = (x[n] + x[n-1] + \\ldots + x[n-M+1])/M\n",
    "$$ \n",
    "\n",
    "Let's implement this in the simplest possible way:"
   ]
  },
  {
   "cell_type": "code",
   "execution_count": null,
   "id": "87a04a71-3ab0-4980-b697-7522ccf0f88c",
   "metadata": {},
   "outputs": [],
   "source": [
    "# vector to store the output\n",
    "y = np.zeros(len(x))\n",
    "\n",
    "# number of points to use in the average\n",
    "M = 20\n",
    "\n",
    "# let's go\n",
    "for n in range(len(x)):\n",
    "    for m in range (M):\n",
    "        y[n] += x_hat[n-m] \n",
    "    y[n] /= M  # average of x[n], x[n-1], x[n-2]  for M points\n",
    "\n",
    "plt.plot(x_hat, color=('red', .5), lw=1, label='noisy');\n",
    "plt.plot(x, 'C3', lw=2, label='clean');\n",
    "plt.plot(y, 'C0', lw=3, label='denoised');\n",
    "plt.legend(loc=\"upper right\");"
   ]
  },
  {
   "cell_type": "markdown",
   "id": "34d39928-2146-406c-9330-e97043eb9ce4",
   "metadata": {
    "editable": true,
    "slideshow": {
     "slide_type": ""
    },
    "tags": []
   },
   "source": [
    "### A better implementation\n",
    "\n",
    "Usually we want to implement our processing algorithms as functions; also, we want to use NumPy's built-ins whenever we can:"
   ]
  },
  {
   "cell_type": "code",
   "execution_count": null,
   "id": "4c99a917-34c8-4f25-a7e0-8b79c369cb9e",
   "metadata": {
    "editable": true,
    "slideshow": {
     "slide_type": ""
    },
    "tags": []
   },
   "outputs": [],
   "source": [
    "def mavg(x: np.ndarray, M: int) -> np.ndarray:\n",
    "    N = len(x)\n",
    "    y = np.zeros(N)\n",
    "    # prepend M-1 zeros to x so that we can always \"go back\" M samples to compute the average\n",
    "    x = np.r_[np.zeros(M-1), x]\n",
    "    for n in range(0, N):\n",
    "        # we can use the built-in averaging function in numpy over the previous M samples\n",
    "        y[n] = np.mean(x[n:n+M])        \n",
    "    return y"
   ]
  },
  {
   "cell_type": "markdown",
   "id": "c7838df3-ae9b-40fc-93d2-f26bcb528d7d",
   "metadata": {
    "editable": true,
    "slideshow": {
     "slide_type": ""
    },
    "tags": []
   },
   "source": [
    "With this, we can play around interactively and see how the number of points used in the average affects the result:"
   ]
  },
  {
   "cell_type": "code",
   "execution_count": null,
   "id": "762094af-1919-4253-847f-02a091307648",
   "metadata": {},
   "outputs": [],
   "source": [
    "wg.interact(display, SNR=(0.0, 50.0), Bw=(5, 40, 1), dfilt=wg.fixed(mavg), param=wg.IntSlider(min=2, max=100, value=3, description='M'));"
   ]
  },
  {
   "cell_type": "markdown",
   "id": "b8b3e648-b9d0-45fd-b36e-5ed105684f35",
   "metadata": {
    "editable": true,
    "slideshow": {
     "slide_type": ""
    },
    "tags": []
   },
   "source": [
    "## Denoising with a recursive filter\n",
    "\n",
    "The idea here is to _update_ the previous estimate of the average as we go along; we do this by keeping a large proportion of the previous estimate and adding a small amount of the current input sample\n",
    "$$\n",
    "    y[n] = \\lambda y[n-1] + (1-\\lambda)x[n]\n",
    "$$\n",
    "where $\\lambda$ is a parameter between zero and one. The system that implements this recursive update is called a _leaky integrator_.\n",
    "\n",
    "As we have seen in class, this recursive relation also describes a discretized RC lowpass circuit; it's not a coincidence that this works for denoising since here we want to remove the fast variations due to the noise while preserving the smooth, slowly-varying signal envelope and this is what a lowpass filter does."
   ]
  },
  {
   "cell_type": "code",
   "execution_count": null,
   "id": "0efd2487-4114-445a-8b15-0344074bdaa1",
   "metadata": {
    "editable": true,
    "slideshow": {
     "slide_type": ""
    },
    "tags": []
   },
   "outputs": [],
   "source": [
    "def leaky(x: np.ndarray, lam: float) -> np.ndarray:\n",
    "    y = np.zeros(len(x))\n",
    "    for n in range(0, len(x)):\n",
    "        y[n] = lam * y[n-1] + (1 - lam) * x[n]        \n",
    "    return y"
   ]
  },
  {
   "cell_type": "code",
   "execution_count": null,
   "id": "a472b533-741b-4a6f-bda8-8e20af5f0250",
   "metadata": {},
   "outputs": [],
   "source": [
    "interact(display, SNR=(0.0, 50.0), Bw=(5, 40, 1), dfilt=wg.fixed(leaky), param=wg.FloatSlider(min=0, max=0.999, value=0.5, description='$\\\\lambda$'));"
   ]
  },
  {
   "cell_type": "code",
   "execution_count": null,
   "id": "002a5902-10ce-4bab-b550-ab68feeaeab5",
   "metadata": {},
   "outputs": [],
   "source": []
  }
 ],
 "metadata": {
  "kernelspec": {
   "display_name": "Python 3 (ipykernel)",
   "language": "python",
   "name": "python3"
  },
  "language_info": {
   "codemirror_mode": {
    "name": "ipython",
    "version": 3
   },
   "file_extension": ".py",
   "mimetype": "text/x-python",
   "name": "python",
   "nbconvert_exporter": "python",
   "pygments_lexer": "ipython3",
   "version": "3.12.3"
  }
 },
 "nbformat": 4,
 "nbformat_minor": 5
}
