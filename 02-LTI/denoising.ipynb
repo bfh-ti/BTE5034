{
 "cells": [
  {
   "cell_type": "markdown",
   "id": "b8d95824-bce1-4b08-ae39-c696b8d04aae",
   "metadata": {
    "editable": true,
    "slideshow": {
     "slide_type": ""
    },
    "tags": []
   },
   "source": [
    "<style>       \n",
    "    hr{\n",
    "        height: 4px;\n",
    "        background-color: rgb(247,148,9);\n",
    "        border: none;\n",
    "    }\n",
    "</style>\n",
    "<div style=\"color=white;\n",
    "           display:fill;\n",
    "           border-radius:5px;\n",
    "           background-color:rgb(34,41,49)\">\n",
    "<hr>\n",
    "<div align=\"right\"><i>BTE5034 - Digital Signal Processing &nbsp;</i></div>\n",
    "<div align=\"right\">EIT - BFH &nbsp;</div>\n",
    "\n",
    "<div style=\"clear: both; font-size: 30pt; font-weight: bold;\">\n",
    "    Discrete-time Filters\n",
    "</div>\n",
    "<hr>\n",
    "</div>"
   ]
  },
  {
   "cell_type": "code",
   "execution_count": 11,
   "id": "45c82e53-6767-4af2-af81-90b2701ec69e",
   "metadata": {
    "editable": true,
    "slideshow": {
     "slide_type": ""
    },
    "tags": []
   },
   "outputs": [],
   "source": [
    "import matplotlib.pyplot as plt\n",
    "import numpy as np\n",
    "import IPython\n",
    "import scipy.signal as sp\n",
    "from scipy.io import wavfile\n",
    "\n",
    "# interactivity library:\n",
    "from ipywidgets import interact, interactive, fixed, interact_manual\n",
    "import ipywidgets as widgets"
   ]
  },
  {
   "cell_type": "code",
   "execution_count": 12,
   "id": "b81259e0-25e4-4c8d-bb25-32f6466a9d07",
   "metadata": {
    "editable": true,
    "slideshow": {
     "slide_type": ""
    },
    "tags": []
   },
   "outputs": [],
   "source": [
    "plt.rcParams[\"figure.figsize\"] = (14,4)"
   ]
  },
  {
   "cell_type": "markdown",
   "id": "55edefb0-08ac-4f9a-822f-e1d6523ffa96",
   "metadata": {
    "editable": true,
    "slideshow": {
     "slide_type": ""
    },
    "tags": []
   },
   "source": [
    "# Denoising\n",
    "\n",
    "In a denoising scenario we have a \"clean\" signal $x[n]$ that has been corrupted by an additive noise signal $\\eta[n]$; we only have access to $\\hat{x}[n] = x[n] + \\eta[n]$ and we would like to recover $x[n]$.\n",
    "\n",
    "In general, without further assumptions, this is not a solvable problem. However, it is generally the case that the signal and the noise have very different characteristics and, in this case, we can try to reduce the amount of noise via filtering. Typically, if we look in the time domain:\n",
    " * the clean signal is varying slowly and smoothly\n",
    " * the noise is low-amplitude with respect to the signal and it varies very fast from one sample to the next."
   ]
  },
  {
   "cell_type": "markdown",
   "id": "8084a998-a144-42b6-a471-397445560719",
   "metadata": {
    "editable": true,
    "slideshow": {
     "slide_type": ""
    },
    "tags": []
   },
   "source": [
    "## A generator for smooth noisy signals\n",
    "\n",
    "The following function can be used to generate an $N$-point smooth signal together with a noise-corrupted version at the specified signal to noise ratio; the spectrum of the smooth signal will contain most of its energy in the $[-B\\pi, B\\pi]$ range. You don't need to worry about how the function works, simply use it as a black box."
   ]
  },
  {
   "cell_type": "code",
   "execution_count": null,
   "id": "122066aa-830a-44eb-9335-e3e151f8722a",
   "metadata": {
    "editable": true,
    "slideshow": {
     "slide_type": ""
    },
    "tags": []
   },
   "outputs": [],
   "source": [
    "def sig_gen(N: int, SNR: float, B=0.04, x=None) -> [np.ndarray, np.ndarray]:\n",
    "    if x is None:\n",
    "        X = np.r_[0, np.random.uniform(-1, 1, 2 * int(N * B) + 1)]\n",
    "        x = np.real(np.fft.ifft(X, 2*N))[:N] / np.sqrt(2 * B / 3 / N)\n",
    "    a = np.sqrt((3.0 / 8.0) / np.power(10, SNR / 10)) \n",
    "    return x, x + np.random.uniform(-a, a, len(x))"
   ]
  },
  {
   "cell_type": "code",
   "execution_count": null,
   "id": "34c40b0d-689e-441d-bae0-cb602da2f74c",
   "metadata": {
    "editable": true,
    "slideshow": {
     "slide_type": ""
    },
    "tags": [
     "solution"
    ]
   },
   "outputs": [],
   "source": [
    "# Only for the very curious students!!\n",
    "\n",
    "def sig_gen(N: int, SNR: float, B=0.04, x=None) -> [np.ndarray, np.ndarray]:\n",
    "    if x is None:\n",
    "        # build a smooth signal by creating a DFT vector X of length 2 * int(N * B) + 2 and\n",
    "        #  taking a 2N-point inverse DFT. The resulting signal will be bandlimited to 2pi * B.\n",
    "        # X[0] = 0 to ensure zero mean; other values randomly distributed over [-1, 1]\n",
    "        X = np.r_[0, np.random.uniform(-1, 1, 2 * int(N * B) + 1)]\n",
    "        # at this point the signal's energy is the number of nonzero DFT coefficients times\n",
    "        #  their variance, divided by the number of time samples: (2NB)(1/3)/(2N) = B / 3\n",
    "        # We take the real part only, so energy is B / 6\n",
    "        # To get a signal with approx unit peak, normalize by sqrt of twice the power\n",
    "        #  (pretending the signal is sinusoidal so that peak = RMS * sqrt(2))\n",
    "        x = np.real(np.fft.ifft(X, 2*N))[:N] / np.sqrt(2 * B / 3 / N)\n",
    "    # amplitude of the noise from the desired SNR, knowing that now signal energy is 0.125\n",
    "    a = np.sqrt((3.0 / 8.0) / np.power(10, SNR / 10)) \n",
    "    return x, x + np.random.uniform(-a, a, len(x))"
   ]
  },
  {
   "cell_type": "markdown",
   "id": "48af684f-1f07-423c-950a-5aa7f2b38dbf",
   "metadata": {
    "editable": true,
    "slideshow": {
     "slide_type": ""
    },
    "tags": []
   },
   "source": [
    "Use the following interactive widget to play with the SNR and the B parameters and try to get a feel for their effect on the  signal generated by the function:"
   ]
  },
  {
   "cell_type": "code",
   "execution_count": null,
   "id": "fa45f777-c830-4627-a565-481c4cd7ff4c",
   "metadata": {
    "editable": true,
    "slideshow": {
     "slide_type": ""
    },
    "tags": []
   },
   "outputs": [],
   "source": [
    "def display(SNR=15, B=0.02):\n",
    "    x, x_hat = sig_gen(1000, SNR, B, display.prev[1] if B == display.prev[0] else None)\n",
    "    display.prev = [B, x]\n",
    "    plt.plot(x, 'C0', lw=2, label='clean');\n",
    "    plt.plot(x_hat, 'C3', lw=1, label='noisy');\n",
    "    plt.ylim(-1.2,1.2);\n",
    "    plt.legend(loc=\"upper right\");\n",
    "\n",
    "display.prev = [0, None]\n",
    "    \n",
    "interact(display, SNR=(0.0, 50.0), B=(0.01, 0.09, 0.01));"
   ]
  },
  {
   "cell_type": "markdown",
   "id": "b2469401-c448-42b4-8c5c-662442467085",
   "metadata": {
    "editable": true,
    "slideshow": {
     "slide_type": ""
    },
    "tags": []
   },
   "source": [
    "### Exercise: checking the SNR\n",
    "\n",
    "Given a noise-corrupted signal $\\hat{x}[n] = x[n] + \\eta[n]$, the signal-to-noise ratio is expressed in dB and is computed as \n",
    "\n",
    "$$\n",
    "    \\text{SNR}_{\\hat{x}} = 10 \\log_{10}\\left(\\frac{E_x}{E_\\eta}\\right)\n",
    "$$\n",
    "\n",
    "where $E_x$ is the energy of the clean signal and $E_\\eta$ is the energy of the noise. \n",
    "\n",
    "Generate a noisy signal and verify numerically that the SNR of the sequence returned by `sig_gen()` is indeed close to the SNR passed as an argument to the function."
   ]
  },
  {
   "cell_type": "code",
   "execution_count": null,
   "id": "546859ce-34e4-4db9-b758-5b9d3d24cf3a",
   "metadata": {
    "editable": true,
    "slideshow": {
     "slide_type": ""
    },
    "tags": []
   },
   "outputs": [],
   "source": [
    "N, SNR = 1000, 30\n",
    "x, x_hat = sig_gen(N, SNR)\n",
    "E_x = ...\n",
    "E_eta = ...\n",
    "SNR_exp = ..."
   ]
  },
  {
   "cell_type": "markdown",
   "id": "e6b32af4-1f84-48ff-8bfc-67a78a768f63",
   "metadata": {
    "editable": true,
    "slideshow": {
     "slide_type": ""
    },
    "tags": []
   },
   "source": [
    "## Denoising via averaging\n",
    "\n",
    "As a first idea, try to remove the noise by replacing each sample with a local average of the data"
   ]
  },
  {
   "cell_type": "code",
   "execution_count": null,
   "id": "e7af478a-d695-4e21-9b64-f85f95e3adde",
   "metadata": {
    "editable": true,
    "slideshow": {
     "slide_type": ""
    },
    "tags": []
   },
   "outputs": [],
   "source": [
    "#..."
   ]
  },
  {
   "cell_type": "markdown",
   "id": "b8b3e648-b9d0-45fd-b36e-5ed105684f35",
   "metadata": {
    "editable": true,
    "slideshow": {
     "slide_type": ""
    },
    "tags": []
   },
   "source": [
    "## Denoising with a recursive filter\n",
    "\n",
    "Denoising is a lowpass operation, in the sense that it removes the fast variations due to the noise while preserving the smooth, slowly-varying signal envelope. Since an RC circuit is a lowpass filter, use a discretized recursive filter to remove the noise"
   ]
  }
 ],
 "metadata": {
  "kernelspec": {
   "display_name": "Python 3 (ipykernel)",
   "language": "python",
   "name": "python3"
  },
  "language_info": {
   "codemirror_mode": {
    "name": "ipython",
    "version": 3
   },
   "file_extension": ".py",
   "mimetype": "text/x-python",
   "name": "python",
   "nbconvert_exporter": "python",
   "pygments_lexer": "ipython3",
   "version": "3.12.3"
  }
 },
 "nbformat": 4,
 "nbformat_minor": 5
}
