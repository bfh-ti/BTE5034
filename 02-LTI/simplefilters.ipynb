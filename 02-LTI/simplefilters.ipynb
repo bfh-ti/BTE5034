{
 "cells": [
  {
   "cell_type": "markdown",
   "id": "b8d95824-bce1-4b08-ae39-c696b8d04aae",
   "metadata": {
    "editable": true,
    "slideshow": {
     "slide_type": ""
    },
    "tags": []
   },
   "source": [
    "<style>       \n",
    "    hr{\n",
    "        height: 4px;\n",
    "        background-color: rgb(247,148,9);\n",
    "        border: none;\n",
    "    }\n",
    "</style>\n",
    "<div style=\"color=white;\n",
    "           display:fill;\n",
    "           border-radius:5px;\n",
    "           background-color:rgb(34,41,49)\">\n",
    "<hr>\n",
    "<div align=\"right\"><i>BTE5034 - Digital Signal Processing &nbsp;</i></div>\n",
    "<div align=\"right\">EIT - BFH &nbsp;</div>\n",
    "\n",
    "<div style=\"clear: both; font-size: 30pt; font-weight: bold;\">\n",
    "    Simple discrete-time Filters\n",
    "</div>\n",
    "<hr>\n",
    "</div>"
   ]
  },
  {
   "cell_type": "code",
   "execution_count": null,
   "id": "45c82e53-6767-4af2-af81-90b2701ec69e",
   "metadata": {
    "editable": true,
    "slideshow": {
     "slide_type": ""
    },
    "tags": []
   },
   "outputs": [],
   "source": [
    "import matplotlib.pyplot as plt\n",
    "import numpy as np\n",
    "import IPython\n",
    "\n",
    "import ipywidgets as wg"
   ]
  },
  {
   "cell_type": "code",
   "execution_count": null,
   "id": "b81259e0-25e4-4c8d-bb25-32f6466a9d07",
   "metadata": {
    "editable": true,
    "slideshow": {
     "slide_type": ""
    },
    "tags": []
   },
   "outputs": [],
   "source": [
    "plt.rcParams[\"figure.figsize\"] = (14,4)"
   ]
  },
  {
   "cell_type": "markdown",
   "id": "3f29ccdc-11e5-4646-ba57-597afb11cfed",
   "metadata": {
    "editable": true,
    "slideshow": {
     "slide_type": ""
    },
    "tags": []
   },
   "source": [
    "# \"Intuitive\" filter design\n",
    "\n",
    "In the previous notebook we came up with a couple of filters for denoising a signal. The hypothesis were\n",
    " * the clean signal is varying slowly and smoothly\n",
    " * the noise is low-amplitude with respect to the signal and it varies very fast from one sample to the next.\n",
    "\n",
    "In these cases, we discovered that replacing each sample by a local average of the noisy signal could reduce the noise while preserving most of the slow-varying clean data.\n",
    "\n",
    "To develop those filters we worked \"algoritmically\", that is, we defined a formula to compute a local average (or a recursivel-updated approximation) using only past input and output values. "
   ]
  },
  {
   "cell_type": "markdown",
   "id": "64f71969-b64c-4361-8bb5-31633ad737df",
   "metadata": {
    "editable": true,
    "slideshow": {
     "slide_type": ""
    },
    "tags": []
   },
   "source": [
    "## The CCDE, a filter's algorithm\n",
    "\n",
    "The input-output formula for an implementable digital filter is a Constant-Coefficients Difference Equation (CCDE), whose general form is\n",
    "$$\n",
    "    y[n] = \\sum_{k=1}^{N-1}a_k y[n-k] + \\sum_{k=0}^{M-1}b_k x[n-k]  \n",
    "$$\n",
    "\n",
    "There are two types of possible filters:\n",
    " * when $N=1$ the output depends only on past input samples and the filter is FIR (Finite Impulse Response)\n",
    " * otherwise the output also depends recursivesly on past outputs and the filter is IIR (Infinite Impulse Response)"
   ]
  },
  {
   "cell_type": "markdown",
   "id": "5f36bbef-572c-4e23-a7e6-5c13d6b2f2f6",
   "metadata": {},
   "source": [
    "### Example: the Moving Average\n",
    "\n",
    "For a MA we have\n",
    "$$\n",
    "    y[n] = (1/M)\\sum_{k=0}^{M-1}x[n-k]  \n",
    "$$\n",
    "\n",
    "so that the filter is FIR and $b_k = 1/M$ for $k = 0, 1, \\ldots, M-1$"
   ]
  },
  {
   "cell_type": "markdown",
   "id": "0e02eb7e-007f-4156-8cf7-da783d3c8d7f",
   "metadata": {},
   "source": [
    "### Exercise: the Leaky Integrator\n",
    "\n",
    "Determine $N, M, a_k, b_k$ for a leaky integrator."
   ]
  },
  {
   "cell_type": "markdown",
   "id": "497068f3-2d2b-4d4e-a419-11d7b6de3359",
   "metadata": {
    "editable": true,
    "slideshow": {
     "slide_type": ""
    },
    "tags": []
   },
   "source": [
    "## More \"intuitive\" filters\n",
    "\n",
    "It is difficult to design more sophisticated digital filters directly from their \"algorithm\", i.e. the CCDE. But let's try a couple more"
   ]
  },
  {
   "cell_type": "markdown",
   "id": "8084a998-a144-42b6-a471-397445560719",
   "metadata": {
    "editable": true,
    "slideshow": {
     "slide_type": ""
    },
    "tags": []
   },
   "source": [
    "### Exercise: what does this filter do?\n",
    "\n",
    "Consider the filter described by\n",
    "\n",
    "$$\n",
    "    y[n] = x[n]-x[n-1]\n",
    "$$\n",
    "\n",
    "What does this filter do? To provide a better answer try to do the following\n",
    " * implement the filter by completing the function below\n",
    " * apply the filter to a constant signal like $x[n] = a$; what is the output?\n",
    " * apply the filter to a linearly growing filter of the form $x[n] = an + b$; what is the output?\n",
    " * what happens if you change the values of $a$ and $b$?\n",
    " * based on the prevuious results can you describe what the flter looks like it's doing?"
   ]
  },
  {
   "cell_type": "code",
   "execution_count": null,
   "id": "34c40b0d-689e-441d-bae0-cb602da2f74c",
   "metadata": {
    "editable": true,
    "slideshow": {
     "slide_type": ""
    },
    "tags": [
     "solution"
    ]
   },
   "outputs": [],
   "source": [
    "def filt1(x: np.ndarray) -> np.ndarray:\n",
    "    ...\n",
    "    return ..."
   ]
  },
  {
   "cell_type": "code",
   "execution_count": null,
   "id": "e2fad246-cbb2-4cd0-8c57-1d0a2470ae55",
   "metadata": {},
   "outputs": [],
   "source": [
    "N = 20\n",
    "a, b = 0.5, -1\n",
    "\n",
    "x = a * np.ones(N)\n",
    "plt.stem(x)\n",
    "plt.stem(filt1(x), 'r');"
   ]
  },
  {
   "cell_type": "code",
   "execution_count": null,
   "id": "a86fa6e2-eee3-408e-a08f-102c992de6d3",
   "metadata": {},
   "outputs": [],
   "source": [
    "x = a * np.arange(N) + b\n",
    "plt.stem(x)\n",
    "plt.stem(filt1(x), 'r');"
   ]
  },
  {
   "cell_type": "markdown",
   "id": "b2469401-c448-42b4-8c5c-662442467085",
   "metadata": {
    "editable": true,
    "slideshow": {
     "slide_type": ""
    },
    "tags": []
   },
   "source": [
    "### Exercise: hum removal\n",
    "\n",
    "In audio applications, we often need to remove the 50 Hz \"hum\" that analog amplifier pick up from the AC power source. Can you design an FIR filter that \"kills\" any sinusoidal component at frequency $\\omega_0$ present in the input?\n",
    "\n",
    "You may find the following trigonometric relations useful:\n",
    "\\begin{align}\n",
    "    \\cos(n\\theta) &= 2\\cos(\\theta) \\cos((n-1)\\theta) - \\cos((n-2)\\theta) \\\\\n",
    "    \\sin(n\\theta) &= 2\\cos(\\theta) \\sin((n-1)\\theta) - \\sin((n-2)\\theta) \n",
    "\\end{align}"
   ]
  },
  {
   "cell_type": "code",
   "execution_count": null,
   "id": "a848db4d-bfc8-44bb-aaf2-0667b85053df",
   "metadata": {
    "editable": true,
    "slideshow": {
     "slide_type": ""
    },
    "tags": []
   },
   "outputs": [],
   "source": [
    "def humr(w: float, x: np.ndarray) -> np.ndarray:\n",
    "    y = np.zeros_like(x)\n",
    "    ...\n",
    "    return y"
   ]
  },
  {
   "cell_type": "code",
   "execution_count": null,
   "id": "19ef41c5-a2b1-4220-9bea-9c93c2b66b58",
   "metadata": {},
   "outputs": [],
   "source": [
    "N = 100\n",
    "w = 0.1 * np.pi\n",
    "x = np.cos(w * np.arange(N))"
   ]
  },
  {
   "cell_type": "code",
   "execution_count": null,
   "id": "0584cd4c-e9f6-4201-9d1b-f7de7e359439",
   "metadata": {
    "editable": true,
    "slideshow": {
     "slide_type": ""
    },
    "tags": []
   },
   "outputs": [],
   "source": [
    "plt.stem(x);\n",
    "plt.stem(humr(w, x), 'r');"
   ]
  },
  {
   "cell_type": "code",
   "execution_count": null,
   "id": "f575d437",
   "metadata": {
    "editable": true,
    "slideshow": {
     "slide_type": ""
    },
    "tags": []
   },
   "outputs": [],
   "source": [
    "plt.stem(x);\n",
    "plt.stem(humr(w/3, x), 'r');"
   ]
  }
 ],
 "metadata": {
  "kernelspec": {
   "display_name": "Python 3 (ipykernel)",
   "language": "python",
   "name": "python3"
  },
  "language_info": {
   "codemirror_mode": {
    "name": "ipython",
    "version": 3
   },
   "file_extension": ".py",
   "mimetype": "text/x-python",
   "name": "python",
   "nbconvert_exporter": "python",
   "pygments_lexer": "ipython3",
   "version": "3.12.3"
  }
 },
 "nbformat": 4,
 "nbformat_minor": 5
}
