{
 "cells": [
  {
   "cell_type": "markdown",
   "id": "d81559e1-b8d4-4cea-9540-6c9962871889",
   "metadata": {
    "editable": true,
    "slideshow": {
     "slide_type": ""
    },
    "tags": []
   },
   "source": [
    "# Exercises and examples done in class on 3 April 2025"
   ]
  },
  {
   "cell_type": "code",
   "execution_count": null,
   "id": "0ffa65ae-7ff7-4fd0-8f36-c3293715d8e0",
   "metadata": {},
   "outputs": [],
   "source": [
    "import numpy as np\n",
    "import matplotlib.pyplot as plt\n",
    "from IPython.display import Audio\n",
    "\n",
    "plt.rcParams[\"figure.figsize\"] = (12,3)"
   ]
  },
  {
   "cell_type": "code",
   "execution_count": null,
   "id": "e71bbd0a-a762-4adc-bfdc-c90ec54a03aa",
   "metadata": {},
   "outputs": [],
   "source": [
    "# utility function to plot the magnitude spctrum (or the periodogram)\n",
    "def spectrum(x, f=2*np.pi, pos_only=False, periodogram=False):\n",
    "    N = len(x)\n",
    "    ix = np.arange(0, int(N/2 + 1)) \n",
    "    if not pos_only:\n",
    "        ix = np.r_[ np.arange(int(N/2 + 0.5), N), ix ].astype(int)\n",
    "    X = np.abs(np.fft.fft(x)[ix])\n",
    "    if periodogram:\n",
    "        X = (X ** 2) / N\n",
    "    ix[:N//2] -= 0 if pos_only else N\n",
    "    return f * ix / N, X "
   ]
  },
  {
   "cell_type": "markdown",
   "id": "719137af-d469-496a-85a7-fc408577d343",
   "metadata": {},
   "source": [
    "# Signal models in the time domain"
   ]
  },
  {
   "cell_type": "markdown",
   "id": "0fb201b9-53e0-4f59-9e28-20e6ead9eb9b",
   "metadata": {},
   "source": [
    "### Exercise: deterministic signals  \n",
    "Generate a discrete-time deterministic signal containing the mix of 3 musical notes, a G3 a B3 and a D4.\n",
    "Assume the signal is the result of sampling a 4-second long continuous-time signal at fs = 44000 samples per second. Plot the\n",
    "signal and play it."
   ]
  },
  {
   "cell_type": "code",
   "execution_count": null,
   "id": "75b907b4-67eb-4638-bd10-bc304ff7d19f",
   "metadata": {},
   "outputs": [],
   "source": [
    "Fs = 44100\n",
    "T = 4\n",
    "# frequencies of the three notes\n",
    "G3, B3, D4 = [196, 247, 293.7] "
   ]
  },
  {
   "cell_type": "code",
   "execution_count": null,
   "id": "f35c5caa-0713-4fc3-8e7b-23fef80fc32a",
   "metadata": {},
   "outputs": [],
   "source": [
    "# digital frequency: w_i = 2pi (f_i/Fs)\n",
    "notes = 2 * np.pi / Fs * np.array([G3, B3, D4])\n",
    "\n",
    "# compact way to generate the sum of the three sinusoids x[n] = sum_i cos(w_i * n), n = 0, 1, ..., N-1\n",
    "#   1) number of samples N = Fs * T\n",
    "#   2) build a 3 x N matrix A where A[i, n] = w_i * n\n",
    "#   3) compute C = cos(A), so C[i, n] = cos(2pi f_i/Fs * n)\n",
    "#   4) sum the columns of C to obtain x\n",
    "x = np.sum(np.cos(np.outer(notes, np.arange(T * Fs))), axis=0)"
   ]
  },
  {
   "cell_type": "code",
   "execution_count": null,
   "id": "3de698ea-40f1-4001-a93a-32d3294a036e",
   "metadata": {},
   "outputs": [],
   "source": [
    "plt.plot(x[:10000]);"
   ]
  },
  {
   "cell_type": "code",
   "execution_count": null,
   "id": "7a80c48a-aed2-4c13-a690-817c5dc4b6b0",
   "metadata": {},
   "outputs": [],
   "source": [
    "Audio(x, rate=Fs)"
   ]
  },
  {
   "cell_type": "markdown",
   "id": "58ec14ac-3a88-4f7f-91c6-4aa9c78d787f",
   "metadata": {},
   "source": [
    "### Exercise: random signals (noise)  \n",
    " * Generate 150,000 white noise samples using a zero-mean, unit-variance Gaussian random number generator. Plot the data and play it as an audio signal assuming a sampling rate of $44,100$ samples per second.\n",
    " *  Generate 150,000 white noise samples using a unifor random number generator between $-1$ and $1$. Plot the data and play it as an audio signal assuming a sampling rate of $44,100$ samples per second.\n",
    " * Can you tell the difference between the two types of white noise, either from the plots and/or from the sounds?"
   ]
  },
  {
   "cell_type": "code",
   "execution_count": null,
   "id": "75d48d4e-b076-4560-a1e6-a4c442f5cd39",
   "metadata": {},
   "outputs": [],
   "source": [
    "N = 150000\n",
    "\n",
    "wgn = np.random.randn(N)\n",
    "wun = (np.random.rand(N) - 0.5) * 2"
   ]
  },
  {
   "cell_type": "code",
   "execution_count": null,
   "id": "edb1c8c9-435e-411b-affa-f37726e97d70",
   "metadata": {},
   "outputs": [],
   "source": [
    "plt.plot(wgn[:10000]);"
   ]
  },
  {
   "cell_type": "code",
   "execution_count": null,
   "id": "e8dc6091-12ff-4137-99bb-31bb5a403143",
   "metadata": {},
   "outputs": [],
   "source": [
    "plt.plot(wun[:10000]);"
   ]
  },
  {
   "cell_type": "markdown",
   "id": "e55d3461-0a73-4f7d-ab84-476426edc945",
   "metadata": {},
   "source": [
    "To avoid the automatic amplitude normalization performed by IPython.Audio, let's normalize the signals by the same value. We use $3\\sigma$ (where $\\sigma$ is the standard deviation of the Gaussian noise) and clip Gaussian samples larger than that in magnitude. This will help us compare the sound of each noise more fairly"
   ]
  },
  {
   "cell_type": "code",
   "execution_count": null,
   "id": "daa57c8d-b2a0-49a4-8ba2-311601ed5198",
   "metadata": {},
   "outputs": [],
   "source": [
    "def norm_clip(x, V):\n",
    "    y = x / V\n",
    "    y[y > 1] = 1\n",
    "    y[y < -1] = -1\n",
    "    return y"
   ]
  },
  {
   "cell_type": "code",
   "execution_count": null,
   "id": "ced9d5b6-c233-4ed3-aa87-71df2340b6d6",
   "metadata": {},
   "outputs": [],
   "source": [
    "max_amplitude = 3\n",
    "\n",
    "Audio(norm_clip(wgn, max_amplitude), rate=Fs, normalize=False)"
   ]
  },
  {
   "cell_type": "code",
   "execution_count": null,
   "id": "f8c1d9a2-a72a-4159-a368-c3a14289cd10",
   "metadata": {},
   "outputs": [],
   "source": [
    "Audio(norm_clip(wun, max_amplitude), rate=Fs, normalize=False)"
   ]
  },
  {
   "cell_type": "markdown",
   "id": "9a64bf5e-a94e-472a-ae44-8892ea5d75c2",
   "metadata": {},
   "source": [
    "### Exercise: empirical statistics  \n",
    "\n",
    "For the noise signals generated before, let's compare the empirical estimate of the mean and the variance to their empirical estimations: remember that\n",
    " * mean of both white noise signals should be zero\n",
    " * variance should be 1 for the Gaussian noise and $(B-A)^2/12$ for uniformly-distributed over the interval $[A, B]$ (in our case 1/3 since the interva is $[-1, 1]$) \n",
    "\n",
    "To see the effects of sample data size:\n",
    " * Compute mean and variance using only 100 generated samples;\n",
    " *  Compute mean and variance using all of the generated samples;"
   ]
  },
  {
   "cell_type": "code",
   "execution_count": null,
   "id": "e602a6fa-a0e5-464a-8306-0648852c5936",
   "metadata": {},
   "outputs": [],
   "source": [
    "def mean_var(x, N):\n",
    "    N = min(len(x), N)\n",
    "    m = np.mean(x[:N])\n",
    "    v = np.mean((x[:N] - m) ** 2)\n",
    "    return m, v"
   ]
  },
  {
   "cell_type": "code",
   "execution_count": null,
   "id": "b916976e-ae6b-4bb8-8fbe-05335a189ac0",
   "metadata": {},
   "outputs": [],
   "source": [
    "for N in [100, 1000, 100000]:\n",
    "    print(N, mean_var(wgn, N), mean_var(wun, N))"
   ]
  },
  {
   "cell_type": "markdown",
   "id": "2ce02bdd-350f-4b03-bd9d-451b7610e1bf",
   "metadata": {},
   "source": [
    "# Signal analysis in the frequency domain"
   ]
  },
  {
   "cell_type": "markdown",
   "id": "1777870a-4203-4ccf-9fcf-31d816869e3f",
   "metadata": {},
   "source": [
    "## Autocorrelation"
   ]
  },
  {
   "cell_type": "code",
   "execution_count": null,
   "id": "6cef1ca7-5193-4c48-bcd0-d259532778ea",
   "metadata": {},
   "outputs": [],
   "source": [
    "def autocorrelation(x, biased=True, positive_lags_only=False):\n",
    "    N = len(x)\n",
    "    k = np.arange(-N+1, N)   # range for the lag index k\n",
    "    # normalization factor is 1/N for biased, 1/(N-|k|) for unbiased\n",
    "    a = N * np.ones(2 * N - 1) - (0 if biased else np.abs(k))\n",
    "    r = np.correlate(x, x, 'full') / a\n",
    "    if positive_lags_only:\n",
    "        return k[-N:], r[-N:]\n",
    "    else:\n",
    "        return k, r"
   ]
  },
  {
   "cell_type": "code",
   "execution_count": null,
   "id": "882ab0b7-a6cf-455e-b229-b6e005a4db7f",
   "metadata": {},
   "outputs": [],
   "source": [
    "# unbiased correlation\n",
    "plt.plot(*autocorrelation(wun, biased=False));"
   ]
  },
  {
   "cell_type": "code",
   "execution_count": null,
   "id": "634bda9b-999f-468d-b4c1-3212932169ec",
   "metadata": {},
   "outputs": [],
   "source": [
    "# biased correlation\n",
    "plt.plot(*autocorrelation(wun, biased=True));"
   ]
  },
  {
   "cell_type": "markdown",
   "id": "5ce6ba83-df39-42b6-ad0d-0b4bab5b6dab",
   "metadata": {},
   "source": [
    "## Properties of the autocorrelation\n",
    "\n",
    "The autocorrelation of a signal preserves the properties of the original signal. Here we plot a few test signals and their autocorrelation"
   ]
  },
  {
   "cell_type": "code",
   "execution_count": null,
   "id": "f4815e6a-93b3-437e-8d0f-425bbfcfd4a7",
   "metadata": {},
   "outputs": [],
   "source": [
    "N = 200\n",
    "\n",
    "signals = (\n",
    "    np.r_[np.ones(100), np.zeros(N-100)],  # rectangular signal\n",
    "    0.99 ** np.arange(0, N),               # decaying exponential\n",
    "    np.cos(2 * np.pi / 21 * np.arange(N))  # sinusoid\n",
    ")\n",
    "\n",
    "for x in signals:\n",
    "    plt.figure()\n",
    "    plt.subplot(1,2,1)\n",
    "    plt.plot(x)\n",
    "    plt.subplot(1,2,2)\n",
    "    plt.plot(*autocorrelation(x, biased=True), 'C4', label='biased');\n",
    "    plt.plot(*autocorrelation(x, biased=False), 'C5', label='unbiased');\n",
    "    plt.legend();"
   ]
  },
  {
   "cell_type": "markdown",
   "id": "4db518ec-872e-4ec8-8bae-b112249772af",
   "metadata": {},
   "source": [
    "The autocorrelation is robust with respect to independent, additive noise"
   ]
  },
  {
   "cell_type": "code",
   "execution_count": null,
   "id": "c6f8887d-1e39-4c82-a477-9d17016eac13",
   "metadata": {},
   "outputs": [],
   "source": [
    "for x in signals:\n",
    "    y = x + np.random.randn(len(x)) * np.max(np.abs(x)) \n",
    "    plt.figure()\n",
    "    plt.subplot(1,2,1)\n",
    "    plt.plot(y)\n",
    "    plt.subplot(1,2,2)\n",
    "    plt.plot(*autocorrelation(y, biased=True), 'C4', label='noisy');\n",
    "    plt.plot(*autocorrelation(x, biased=True), 'C5', label='clean');\n",
    "    plt.legend();"
   ]
  },
  {
   "cell_type": "markdown",
   "id": "4a69bea1-717b-4a0d-ae30-905c5baf361b",
   "metadata": {},
   "source": [
    "# Periodogram\n",
    "\n",
    "Let $x[n]$ be a length-$N$ signal; call $X[k]$ its $N$ DFT coefficients ($0 \\le k le N-1$) and $r_x[m]$ its $2N-1$ biased autocorrelation ($-N+1 \\le m \\le N-1$).\n",
    "\n",
    "Periodogram definition 1:\n",
    "$$\n",
    "    P_x[k] = |X[k]|^2/N\n",
    "$$\n",
    "\n",
    "Periodogram definition 2:\n",
    "Call $R[k]$ the DFT of the $N$ autocorrelation values $r[0], r[1], \\ldots, r[N-1]$\n",
    "$$\n",
    "    P_x[k] = 2\\text{Re}\\{R[k]\\} - r[0]\n",
    "$$"
   ]
  },
  {
   "cell_type": "code",
   "execution_count": null,
   "id": "1b5e817b-e1d2-4b5c-9596-13b537b64413",
   "metadata": {},
   "outputs": [],
   "source": [
    "# Let's verify that the two definitions coincide\n",
    "\n",
    "for x in signals:\n",
    "\n",
    "    N = len(x)\n",
    "    _, r = autocorrelation(x, biased=True, positive_lags_only=True)\n",
    "    \n",
    "    P_1 = (np.abs(np.fft.fft(x)) ** 2) / N\n",
    "    P_2 = 2 * np.real(np.fft.fft(r)) - r[0]\n",
    "    \n",
    "    plt.figure()    \n",
    "    plt.plot(P_1[:N//2], label='definition 1');\n",
    "    plt.plot(P_2[:N//2], label='definition 2');\n",
    "    plt.legend();"
   ]
  },
  {
   "cell_type": "markdown",
   "id": "5f24f43d-429d-498e-94d5-ce31617f7515",
   "metadata": {},
   "source": [
    "### Exercise: peroiodogram resolution\n",
    "\n",
    "Consider a sampling frequency of $f_s=5KHz$ and generate the following signals:\n",
    "\n",
    "  * A signal $x_1[n]$ obtained by sampling $T=2$ seconds of a sinusoid with frequency $f_1=440Hz$;\n",
    "  * A signal $x_1[n]$ obtained by sampling $T=2$ seconds of a sinusoid with frequency $f_2=490Hz$;\n",
    "  * The sum of the above signals $x[n]=x_1[n]+x_2[n]$;  \n",
    "  * A white noise signal $w_1[n]$, with the same number of samples as $x[n]$ and Gaussian distribution with unit variance\n",
    "  * The signal $y[n]=x[n]+w[n]$.\n",
    "\n",
    "With these signals:\n",
    "  * Compute the periodogram $P_{xx}^N$ of $x$, using all the available samples;\n",
    "  * Compute the periodogram $P_{xx}^{100}$of $x$, using only 100 samples ;\n",
    "  * Compute the periodogram $P_{xx}^{40}$of $x$, using only 40 samples;\n",
    "  * Plot each result,labeling the frequency axis in Hz.\n",
    "\n",
    "What can you observe? Compute the resolution of the periodogram. Repeat the exercise for the signal $y$.\n"
   ]
  },
  {
   "cell_type": "code",
   "execution_count": null,
   "id": "a7e3b83d-8609-426c-8306-2ae635b9eeeb",
   "metadata": {},
   "outputs": [],
   "source": [
    "fs = 5000\n",
    "T = 2\n",
    "f1, f2 = 440, 490"
   ]
  },
  {
   "cell_type": "code",
   "execution_count": null,
   "id": "d748b775-9a48-47be-a89e-cad9663d673b",
   "metadata": {},
   "outputs": [],
   "source": [
    "N = int(T * fs)\n",
    "x1 = np.cos(2 * np.pi * f1 / fs * np.arange(N))\n",
    "x2 = np.cos(2 * np.pi * f2 / fs * np.arange(N))\n",
    "x = x1 + x2\n",
    "wgn = np.random.randn(N)\n",
    "y = x + wgn"
   ]
  },
  {
   "cell_type": "code",
   "execution_count": null,
   "id": "6c68dd3f-01c6-4678-af57-7df775261502",
   "metadata": {},
   "outputs": [],
   "source": [
    "for n, M in enumerate([N, 100, 40]):\n",
    "    plt.subplot(1, 3, n+1)\n",
    "    plt.plot(*spectrum(x[:M], periodogram=True, f=fs, pos_only=True))"
   ]
  },
  {
   "cell_type": "code",
   "execution_count": null,
   "id": "50e72174",
   "metadata": {},
   "outputs": [],
   "source": [
    "for n, M in enumerate([N, 100, 40]):\n",
    "    plt.subplot(1, 3, n+1)\n",
    "    plt.plot(*spectrum(y[:M], periodogram=True, f=fs, pos_only=True))"
   ]
  },
  {
   "cell_type": "code",
   "execution_count": null,
   "id": "2294d30b-8e41-45d3-b3a5-f3049289739c",
   "metadata": {},
   "outputs": [],
   "source": []
  }
 ],
 "metadata": {
  "kernelspec": {
   "display_name": "Python 3 (ipykernel)",
   "language": "python",
   "name": "python3"
  },
  "language_info": {
   "codemirror_mode": {
    "name": "ipython",
    "version": 3
   },
   "file_extension": ".py",
   "mimetype": "text/x-python",
   "name": "python",
   "nbconvert_exporter": "python",
   "pygments_lexer": "ipython3",
   "version": "3.12.3"
  }
 },
 "nbformat": 4,
 "nbformat_minor": 5
}
