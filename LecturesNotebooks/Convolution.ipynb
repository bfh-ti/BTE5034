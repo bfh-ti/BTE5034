{
 "cells": [
  {
   "cell_type": "markdown",
   "id": "6944ae33-adfa-47c3-b25e-e8e5e8520c7b",
   "metadata": {},
   "source": [
    "# Interactive convolution demo"
   ]
  },
  {
   "cell_type": "code",
   "execution_count": null,
   "id": "a90ef181-79c9-4cd1-a81d-d98a590ebf47",
   "metadata": {},
   "outputs": [],
   "source": [
    "import numpy as np\n",
    "import matplotlib.pyplot as plt\n",
    "import ipywidgets as wg"
   ]
  },
  {
   "cell_type": "markdown",
   "id": "a90aed6d-5b2a-4d71-8845-35aac44ad148",
   "metadata": {},
   "source": [
    "## Here you can define all the functions you want to try out"
   ]
  },
  {
   "cell_type": "code",
   "execution_count": null,
   "id": "c7d47433-946f-46d1-afac-99bc6c1dc146",
   "metadata": {},
   "outputs": [],
   "source": [
    "def dexp(n):\n",
    "    # causal decaying exponential sequence\n",
    "    a = 0.8\n",
    "    return np.array([0 if m < 0 else pow(a, m) for m in n])"
   ]
  },
  {
   "cell_type": "code",
   "execution_count": null,
   "id": "f4a9d750",
   "metadata": {},
   "outputs": [],
   "source": [
    "def rect(n):\n",
    "    # rectangular sequence of length M\n",
    "    M = 5\n",
    "    return np.array([0 if m < 0 else 1 if m < M else 0 for m in n])"
   ]
  },
  {
   "cell_type": "code",
   "execution_count": null,
   "id": "3da24504",
   "metadata": {},
   "outputs": [],
   "source": [
    "def tri(n):\n",
    "    # triangular sequence of length 2M-1\n",
    "    M = 4\n",
    "    return np.array([0 if m < 0 else (M - np.abs(m - M)) / M if m < 2 * M else 0 for m in n])"
   ]
  },
  {
   "cell_type": "code",
   "execution_count": null,
   "id": "20324e1e",
   "metadata": {},
   "outputs": [],
   "source": [
    "def sinusoid(n):\n",
    "    # discrete-time sinusoid\n",
    "    w = 2 * np.pi / 6\n",
    "    return np.cos(w * n)"
   ]
  },
  {
   "cell_type": "code",
   "execution_count": null,
   "id": "5c1708e3-7578-4744-8b7a-ea72e9489574",
   "metadata": {},
   "outputs": [],
   "source": [
    "def conv_demo(h, x, A=-10, B=20):\n",
    "    k = np.arange(A, B)\n",
    "    x_k, h_n_k = x(k), h(k)\n",
    "    y = np.convolve(x_k, h_n_k)\n",
    "    \n",
    "    plots = [(r'$x[k]$', 'x_k'), (r'$x[k]h[n-k]$', 'x_k * h_n_k'), (r'$h[n-k]$', 'h_n_k'), (r'$y[n]$', 'y')]\n",
    "    lims = np.zeros((4, 2))\n",
    "    for i, v in enumerate(plots):\n",
    "        lims[i] = np.array([np.min(eval(v[1])), np.max(eval(v[1]))]) * 1.1\n",
    "    if np.prod(lims[1]) < 0:\n",
    "        L = np.max(np.abs(lims[1]))\n",
    "        lims[1] = [-L, L]\n",
    "\n",
    "    def render(n):\n",
    "        h_n_k = h(n-k)\n",
    "        y = [np.sum(x_k * h(m-k)) if m <=n else 0 for m in k]\n",
    "\n",
    "        plt.figure(figsize=(13, 5));\n",
    "        for i, v in enumerate(plots):\n",
    "            plt.subplot(2,2,i+1)\n",
    "            plt.title(v[0])\n",
    "            plt.stem(k, eval(v[1]))\n",
    "            plt.ylim(*lims[i])\n",
    "        plt.tight_layout()\n",
    "        \n",
    "    return wg.interactive(render, n=wg.IntSlider(0, A, B, 1))"
   ]
  },
  {
   "cell_type": "markdown",
   "id": "d2dfc31f-b1bb-4019-be10-4586d3f646f6",
   "metadata": {},
   "source": [
    "## Running the demo\n",
    "\n",
    "Call the function passing the two signals you want to convolve (and, optionally, the range for the convolution)"
   ]
  },
  {
   "cell_type": "code",
   "execution_count": null,
   "id": "d9ce9ce1-ad4f-4035-997d-19ee0c64e301",
   "metadata": {},
   "outputs": [],
   "source": [
    "conv_demo(dexp, dexp)"
   ]
  },
  {
   "cell_type": "code",
   "execution_count": null,
   "id": "0589946c-9a30-4145-a3b8-9b56b279b389",
   "metadata": {},
   "outputs": [],
   "source": [
    "conv_demo(rect, dexp)"
   ]
  },
  {
   "cell_type": "code",
   "execution_count": null,
   "id": "362e1593-b99e-4ef2-917f-9ae6c87aa1bf",
   "metadata": {},
   "outputs": [],
   "source": [
    "conv_demo(tri, rect)"
   ]
  },
  {
   "cell_type": "code",
   "execution_count": null,
   "id": "53951f7f-3e7e-4706-a399-0b0943efc586",
   "metadata": {},
   "outputs": [],
   "source": [
    "conv_demo(dexp, sinusoid)"
   ]
  },
  {
   "cell_type": "code",
   "execution_count": null,
   "id": "8abac855-a571-4b70-bec1-514e9bb44030",
   "metadata": {},
   "outputs": [],
   "source": []
  }
 ],
 "metadata": {
  "kernelspec": {
   "display_name": "Python 3 (ipykernel)",
   "language": "python",
   "name": "python3"
  },
  "language_info": {
   "codemirror_mode": {
    "name": "ipython",
    "version": 3
   },
   "file_extension": ".py",
   "mimetype": "text/x-python",
   "name": "python",
   "nbconvert_exporter": "python",
   "pygments_lexer": "ipython3",
   "version": "3.12.3"
  }
 },
 "nbformat": 4,
 "nbformat_minor": 5
}
