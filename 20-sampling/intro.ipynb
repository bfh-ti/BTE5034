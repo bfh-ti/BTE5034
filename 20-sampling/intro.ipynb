{
 "cells": [
  {
   "cell_type": "markdown",
   "metadata": {
    "editable": true,
    "slideshow": {
     "slide_type": ""
    },
    "tags": []
   },
   "source": [
    "<style>       \n",
    "    hr{\n",
    "        height: 4px;\n",
    "        background-color: rgb(247,148,9);\n",
    "        border: none;\n",
    "    }\n",
    "</style>\n",
    "<div style=\"color=white;\n",
    "           display:fill;\n",
    "           border-radius:5px;\n",
    "           background-color:rgb(34,41,49)\">\n",
    "<hr>\n",
    "<div align=\"right\"><i>BTE5034 - Digital Signal Processing &nbsp;</i></div>\n",
    "<div align=\"right\">EIT - BFH &nbsp;</div>\n",
    "\n",
    "<div style=\"clear: both; font-size: 30pt; font-weight: bold;\">\n",
    "    Introduction to sampling\n",
    "</div>\n",
    "<hr>\n",
    "</div>"
   ]
  },
  {
   "cell_type": "code",
   "execution_count": null,
   "metadata": {
    "editable": true,
    "slideshow": {
     "slide_type": ""
    },
    "tags": []
   },
   "outputs": [],
   "source": [
    "# Import necessary libraries\n",
    "import numpy as np\n",
    "import matplotlib.pyplot as plt\n",
    "import ipywidgets as wg\n",
    "import IPython\n",
    "import scipy.signal as sp\n",
    "from scipy.io import wavfile\n",
    "\n",
    "plt.rcParams[\"figure.figsize\"] = (12,3)"
   ]
  },
  {
   "cell_type": "markdown",
   "metadata": {
    "editable": true,
    "slideshow": {
     "slide_type": ""
    },
    "tags": []
   },
   "source": [
    "# Sampling\n",
    "\n",
    "Physical phenomena are usually modeled mathematically via functions of a real-valued variable that represents *time* (in seconds). These analog signals can be converted to discrete-time sequences via *sampling*; to sample a signal means to measure its instantaneous value at successive time instants. In general (and certainly for us) these measurements are *regularly spaced* and separated by the same *sampling period* of $T_s$ seconds. The number of samples per second, known as the *sampling rate* or *sampling frequency* is $F_s=1/T_s$ "
   ]
  },
  {
   "cell_type": "markdown",
   "metadata": {
    "editable": true,
    "slideshow": {
     "slide_type": ""
    },
    "tags": []
   },
   "source": [
    "## How fast should we sample?\n",
    "\n",
    "Consider the analog signal \n",
    "$$\n",
    " x_c(t) = \\cos(2\\pi f_0 t)\n",
    "$$\n",
    "where $f_0$ is the frequency in hertz of the oscillation. If we sample the signal with period $T_s$ we obtain the sequence\n",
    "$$\n",
    " x[n] = x_c(nT_s) = \\cos(2\\pi f_0 T_s n) = \\cos(\\omega_0 n), \\qquad \\omega_0 = 2\\pi (f_0/F_s), \\quad F_s = 1/Ts\n",
    "$$"
   ]
  },
  {
   "cell_type": "markdown",
   "metadata": {},
   "source": [
    "### Exercise\n",
    "\n",
    "Complete the code below so that it plots the samples of the function $x_c(t)$ at a sampling rate $F_s$. Once you have that, plot the result for $F_s = 100$, $F_s = 20$, $F_s = 10$, and $F_s = 9.9$.\n",
    "\n",
    "For $F_s = 9.9$ extend the range of the plot and look at the pattern of the samples; what can you say?"
   ]
  },
  {
   "cell_type": "code",
   "execution_count": null,
   "metadata": {},
   "outputs": [],
   "source": [
    "def x_c(t, f0=10):\n",
    "    return np.cos(2 * np.pi * f0 * t)\n",
    "\n",
    "T = 1\n",
    "t = np.linspace(0, T, 1000)\n",
    "plt.plot(t, x_c(t))\n",
    "\n",
    "Fs = 9.9\n",
    "tn = ...\n",
    "plt.plot(...);"
   ]
  },
  {
   "cell_type": "markdown",
   "metadata": {
    "editable": true,
    "slideshow": {
     "slide_type": ""
    },
    "tags": []
   },
   "source": [
    "# Reconstruction\n",
    "\n",
    "The following function samples a tone at 2000 Hz with sampling frequency $F_s$ and plays back the result using the soundcard of your PC. \n",
    "\n",
    "Run the code with $F_s = 16000, 8000, 4200$ and then with $F_s = 3800$. \n",
    "\n",
    "Try to guess (and check by ear) the frequency you hear in the last case."
   ]
  },
  {
   "cell_type": "code",
   "execution_count": null,
   "metadata": {
    "editable": true,
    "slideshow": {
     "slide_type": ""
    },
    "tags": []
   },
   "outputs": [],
   "source": [
    "Fs = 4200\n",
    "IPython.display.Audio(x_c(np.arange(0, 2, 1/Fs), f0=2000), rate=Fs)"
   ]
  },
  {
   "cell_type": "code",
   "execution_count": null,
   "metadata": {
    "editable": true,
    "slideshow": {
     "slide_type": ""
    },
    "tags": []
   },
   "outputs": [],
   "source": [
    "Fs = 3800\n",
    "IPython.display.Audio(x_c(np.arange(0, 2, 1/Fs), f0=2000), rate=Fs)"
   ]
  },
  {
   "cell_type": "markdown",
   "metadata": {},
   "source": [
    "# Aliasing\n",
    "\n",
    "The frequency folding caused by too low a sampling rate is particularly disruptive when it comes to audio signals. "
   ]
  },
  {
   "cell_type": "code",
   "execution_count": null,
   "metadata": {},
   "outputs": [],
   "source": [
    "Fs_audio, x_audio = wavfile.read('data/music.wav')\n",
    "IPython.display.Audio(x_audio, rate=Fs_audio)"
   ]
  },
  {
   "cell_type": "code",
   "execution_count": null,
   "metadata": {},
   "outputs": [],
   "source": [
    "print(Fs_audio)"
   ]
  },
  {
   "cell_type": "code",
   "execution_count": null,
   "metadata": {},
   "outputs": [],
   "source": [
    "K = 5\n",
    "\n",
    "IPython.display.Audio(x_audio[::K], rate=Fs_audio/K)"
   ]
  },
  {
   "cell_type": "markdown",
   "metadata": {},
   "source": [
    "Notice the difference when we use an antialiasing filter"
   ]
  },
  {
   "cell_type": "code",
   "execution_count": null,
   "metadata": {},
   "outputs": [],
   "source": [
    "x_f = sp.lfilter(*sp.butter(8, 0.5 / K), x_audio)\n",
    "IPython.display.Audio(x_f[::K], rate=Fs_audio/K)"
   ]
  },
  {
   "cell_type": "code",
   "execution_count": null,
   "metadata": {},
   "outputs": [],
   "source": []
  }
 ],
 "metadata": {
  "kernelspec": {
   "display_name": "Python 3 (ipykernel)",
   "language": "python",
   "name": "python3"
  },
  "language_info": {
   "codemirror_mode": {
    "name": "ipython",
    "version": 3
   },
   "file_extension": ".py",
   "mimetype": "text/x-python",
   "name": "python",
   "nbconvert_exporter": "python",
   "pygments_lexer": "ipython3",
   "version": "3.12.3"
  }
 },
 "nbformat": 4,
 "nbformat_minor": 4
}
